{
  "nbformat": 4,
  "nbformat_minor": 0,
  "metadata": {
    "colab": {
      "name": "SlidingTilePuzzle.ipynb",
      "provenance": [],
      "collapsed_sections": [],
      "authorship_tag": "ABX9TyPzy68B+IyjnnzbGxRhQHOH",
      "include_colab_link": true
    },
    "kernelspec": {
      "name": "python3",
      "display_name": "Python 3"
    },
    "language_info": {
      "name": "python"
    }
  },
  "cells": [
    {
      "cell_type": "markdown",
      "metadata": {
        "id": "view-in-github",
        "colab_type": "text"
      },
      "source": [
        "<a href=\"https://colab.research.google.com/github/dnlgomesl/sliding-ia-projeto/blob/master/SlidingTilePuzzle.ipynb\" target=\"_parent\"><img src=\"https://colab.research.google.com/assets/colab-badge.svg\" alt=\"Open In Colab\"/></a>"
      ]
    },
    {
      "cell_type": "markdown",
      "source": [
        "# Sliding Tile Puzzle"
      ],
      "metadata": {
        "id": "BxbS2AuRzMlm"
      }
    },
    {
      "cell_type": "code",
      "execution_count": 107,
      "metadata": {
        "id": "WYBOqyaMt8Uy"
      },
      "outputs": [],
      "source": [
        "import random\n",
        "\n",
        "class SlidingTilePuzzle():\n",
        "  def __init__(self):\n",
        "    # Definindo tabuleiro final\n",
        "    self.tabuleiro_f = [[1, 2, 3], [4, 5, 6], [7, 8, 0]]\n",
        "    self.tabuleiro = self.cria_tabuleiro()\n",
        "    self.index = self.encontra_pos_vazia()\n",
        "    self.printTabuleiro(self.tabuleiro)\n",
        "\n",
        "\n",
        "  # Função para criação do tabuleiro, assumindo que a posição vazia é 0\n",
        "  def cria_tabuleiro(self):\n",
        "    tabuleiro = [[0, 0, 0], [0, 0, 0], [0, 0, 0]]\n",
        "\n",
        "    i = 1\n",
        "    while(i < 9):\n",
        "      linha = random.randint(0, 2)\n",
        "      coluna = random.randint(0, 2)\n",
        "\n",
        "      if tabuleiro[linha][coluna] == 0 and (linha != 2 or coluna != 2):\n",
        "        tabuleiro[linha][coluna] = i\n",
        "        i+=1\n",
        "\n",
        "    return tabuleiro  \n",
        "  \n",
        "\n",
        "  def encontra_pos_vazia(self):\n",
        "    for l in range(len(self.tabuleiro)):\n",
        "      for c in range(len(self.tabuleiro[l])):\n",
        "        if self.tabuleiro[l][c] == 0:\n",
        "          return [l, c]\n",
        "\n",
        "\n",
        "  # Apenas convertendo o tabuleiro para vizualização\n",
        "  def printTabuleiro(self, tabuleiro):\n",
        "    tabuleiro_string = \"\"\n",
        "\n",
        "    for l in range(len(tabuleiro)):\n",
        "      for c in range(len(tabuleiro[l])):\n",
        "        tabuleiro_string += str(tabuleiro[l][c])\n",
        "\n",
        "        if c != 2:\n",
        "          tabuleiro_string += \" \"\n",
        "\n",
        "      tabuleiro_string += \"\\n\"\n",
        "    \n",
        "    print(tabuleiro_string)\n",
        "\n",
        "  \n",
        "  def direita(self):\n",
        "    l = self.index[0]\n",
        "    c = self.index[1]\n",
        "    if c != 2:\n",
        "      # Criando movimentação\n",
        "      temp = self.tabuleiro[l][c+1]\n",
        "      self.tabuleiro[l][c] = temp\n",
        "      self.tabuleiro[l][c+1] = 0\n",
        "      self.index[1] = c+1\n",
        "    \n",
        "    self.printTabuleiro(self.tabuleiro)\n",
        "\n",
        "\n",
        "  def esquerda(self):\n",
        "    l = self.index[0]\n",
        "    c = self.index[1]\n",
        "    if c != 0:\n",
        "      # Criando movimentação\n",
        "      temp = self.tabuleiro[l][c-1]\n",
        "      self.tabuleiro[l][c] = temp\n",
        "      self.tabuleiro[l][c-1] = 0\n",
        "      self.index[1] = c-1\n",
        "\n",
        "    self.printTabuleiro(self.tabuleiro)\n",
        "\n",
        "\n",
        "  def cima(self):\n",
        "    l = self.index[0]\n",
        "    c = self.index[1]\n",
        "    if l != 0:\n",
        "      # Criando movimentação\n",
        "      temp = self.tabuleiro[l-1][c]\n",
        "      self.tabuleiro[l][c] = temp\n",
        "      self.tabuleiro[l-1][c] = 0\n",
        "      self.index[0] = l-1\n",
        "    \n",
        "    self.printTabuleiro(self.tabuleiro)\n",
        "\n",
        "\n",
        "  def baixo(self):\n",
        "    l = self.index[0]\n",
        "    c = self.index[1]\n",
        "    if l != 2:\n",
        "      # Criando movimentação\n",
        "      temp = self.tabuleiro[l+1][c]\n",
        "      self.tabuleiro[l][c] = temp\n",
        "      self.tabuleiro[l+1][c] = 0\n",
        "      self.index[0] = l+1\n",
        "    \n",
        "    self.printTabuleiro(self.tabuleiro)\n",
        "  \n",
        "\n",
        "  def estado_final(self):\n",
        "    self.printTabuleiro(self.tabuleiro_f)"
      ]
    },
    {
      "cell_type": "markdown",
      "source": [
        "## Estados para um tabuleiro aleatório\n",
        "\n",
        "Por definição do jogo o espaço vazio é o espaço que se move, aqui definimos o espaço vazio como sendo 0. O estado inicial sempre virá com a posição vazia sendo a posição inferior mais a direita."
      ],
      "metadata": {
        "id": "RIX_EBJs_ULF"
      }
    },
    {
      "cell_type": "code",
      "source": [
        "# Criando um tabuleiro aleatorio\n",
        "tabuleiro = SlidingTilePuzzle()"
      ],
      "metadata": {
        "colab": {
          "base_uri": "https://localhost:8080/"
        },
        "id": "Z_ZS9J6jyq88",
        "outputId": "a9a200a4-8b70-4062-e796-89f16efa746c"
      },
      "execution_count": 111,
      "outputs": [
        {
          "output_type": "stream",
          "name": "stdout",
          "text": [
            "6 3 2\n",
            "5 4 8\n",
            "7 1 0\n",
            "\n"
          ]
        }
      ]
    },
    {
      "cell_type": "markdown",
      "source": [
        "## Movendo o espaço vazio para a esquerda\n",
        "\n",
        "O espaço vazio pode se mover para esquerda até que chegue na extremidade esquerda, após isso, mesmo que o jogador tente mover a peça para a esquerda nada acontecerá."
      ],
      "metadata": {
        "id": "Z8h-J5eNB-5Y"
      }
    },
    {
      "cell_type": "code",
      "source": [
        "tabuleiro.esquerda()"
      ],
      "metadata": {
        "colab": {
          "base_uri": "https://localhost:8080/"
        },
        "id": "RwdOHjrw7dlw",
        "outputId": "b1ca92a5-0c8f-4e54-f001-05fedc2d9708"
      },
      "execution_count": 112,
      "outputs": [
        {
          "output_type": "stream",
          "name": "stdout",
          "text": [
            "6 3 2\n",
            "5 4 8\n",
            "7 0 1\n",
            "\n"
          ]
        }
      ]
    },
    {
      "cell_type": "code",
      "source": [
        "tabuleiro.esquerda()"
      ],
      "metadata": {
        "colab": {
          "base_uri": "https://localhost:8080/"
        },
        "id": "mfs5WbwICsJh",
        "outputId": "a9bb9ebc-2175-487a-d937-1aa7827d6998"
      },
      "execution_count": 113,
      "outputs": [
        {
          "output_type": "stream",
          "name": "stdout",
          "text": [
            "6 3 2\n",
            "5 4 8\n",
            "0 7 1\n",
            "\n"
          ]
        }
      ]
    },
    {
      "cell_type": "markdown",
      "source": [
        "Perceba na célula acima que a posição vazia já se encontra na extremidade esquerda, por isso, ao tentar movimentar novamente para esquerda nada acontecerá. Isto pode ser visto a seguir"
      ],
      "metadata": {
        "id": "clFiJCRXC9Kr"
      }
    },
    {
      "cell_type": "code",
      "source": [
        "tabuleiro.esquerda()"
      ],
      "metadata": {
        "colab": {
          "base_uri": "https://localhost:8080/"
        },
        "id": "BWJEOwGzCtYJ",
        "outputId": "61077639-01ab-4dbd-bc47-1c6ea0f0b69d"
      },
      "execution_count": 114,
      "outputs": [
        {
          "output_type": "stream",
          "name": "stdout",
          "text": [
            "6 3 2\n",
            "5 4 8\n",
            "0 7 1\n",
            "\n"
          ]
        }
      ]
    },
    {
      "cell_type": "markdown",
      "source": [
        "## Movendo o espaço vazio para a direita\n",
        "\n",
        "O espaço vazio pode se mover para direita até que chegue na extremidade direita, após isso, mesmo que o jogador tente mover a peça para a direita nada acontecerá."
      ],
      "metadata": {
        "id": "1C6n1jvlBo1h"
      }
    },
    {
      "cell_type": "code",
      "source": [
        "tabuleiro.direita()"
      ],
      "metadata": {
        "colab": {
          "base_uri": "https://localhost:8080/"
        },
        "id": "RvbZGw6O-b50",
        "outputId": "75392779-3ec4-4862-be4c-c11df48be1ad"
      },
      "execution_count": 115,
      "outputs": [
        {
          "output_type": "stream",
          "name": "stdout",
          "text": [
            "6 3 2\n",
            "5 4 8\n",
            "7 0 1\n",
            "\n"
          ]
        }
      ]
    },
    {
      "cell_type": "code",
      "source": [
        "tabuleiro.direita()"
      ],
      "metadata": {
        "colab": {
          "base_uri": "https://localhost:8080/"
        },
        "id": "d-M71ra7CInO",
        "outputId": "b8665453-c3a1-4331-cbe3-e86ba65d90ba"
      },
      "execution_count": 116,
      "outputs": [
        {
          "output_type": "stream",
          "name": "stdout",
          "text": [
            "6 3 2\n",
            "5 4 8\n",
            "7 1 0\n",
            "\n"
          ]
        }
      ]
    },
    {
      "cell_type": "markdown",
      "source": [
        "Perceba na célula acima que a posição vazia já se encontra na extremidade direita, por isso, ao tentar movimentar novamente nada acontecerá. Isto pode ser visto a seguir"
      ],
      "metadata": {
        "id": "wlzi8IEACUYF"
      }
    },
    {
      "cell_type": "code",
      "source": [
        "tabuleiro.direita()"
      ],
      "metadata": {
        "colab": {
          "base_uri": "https://localhost:8080/"
        },
        "id": "sbTAjKTvCKbg",
        "outputId": "0ddf7def-b594-431e-e1d4-48ae6a2f7a7d"
      },
      "execution_count": 117,
      "outputs": [
        {
          "output_type": "stream",
          "name": "stdout",
          "text": [
            "6 3 2\n",
            "5 4 8\n",
            "7 1 0\n",
            "\n"
          ]
        }
      ]
    },
    {
      "cell_type": "markdown",
      "source": [
        "## Movendo o espaço vazio para cima\n",
        "\n",
        "O espaço vazio pode se mover para cima até que chegue na extremidade superior, após isso, mesmo que o jogador tente mover a peça para a cima nada acontecerá."
      ],
      "metadata": {
        "id": "6t9vyQmOCjmG"
      }
    },
    {
      "cell_type": "code",
      "source": [
        "tabuleiro.cima()"
      ],
      "metadata": {
        "colab": {
          "base_uri": "https://localhost:8080/"
        },
        "id": "bHeHInT5-d37",
        "outputId": "decd392d-5773-4c1f-90fd-0e2edfcea589"
      },
      "execution_count": 119,
      "outputs": [
        {
          "output_type": "stream",
          "name": "stdout",
          "text": [
            "6 3 2\n",
            "5 4 0\n",
            "7 1 8\n",
            "\n"
          ]
        }
      ]
    },
    {
      "cell_type": "code",
      "source": [
        "tabuleiro.cima()"
      ],
      "metadata": {
        "colab": {
          "base_uri": "https://localhost:8080/"
        },
        "id": "9cmqrY_5FNpb",
        "outputId": "cd1dd90d-e66a-4ea7-b609-99ce9334dcff"
      },
      "execution_count": 120,
      "outputs": [
        {
          "output_type": "stream",
          "name": "stdout",
          "text": [
            "6 3 0\n",
            "5 4 2\n",
            "7 1 8\n",
            "\n"
          ]
        }
      ]
    },
    {
      "cell_type": "markdown",
      "source": [
        "Perceba na célula acima que a posição vazia já se encontra na extremidade superior, por isso, ao tentar movimentar novamente nada acontecerá. Isto pode ser visto a seguir"
      ],
      "metadata": {
        "id": "My4vzgT9DiYZ"
      }
    },
    {
      "cell_type": "code",
      "source": [
        "tabuleiro.cima()"
      ],
      "metadata": {
        "colab": {
          "base_uri": "https://localhost:8080/"
        },
        "id": "j0nMvtY8Dmpu",
        "outputId": "ef43e5bf-8635-4bb9-8d1e-cf5e2bd15131"
      },
      "execution_count": 121,
      "outputs": [
        {
          "output_type": "stream",
          "name": "stdout",
          "text": [
            "6 3 0\n",
            "5 4 2\n",
            "7 1 8\n",
            "\n"
          ]
        }
      ]
    },
    {
      "cell_type": "markdown",
      "source": [
        "## Movendo o espaço vazio para baixo\n",
        "\n",
        "O espaço vazio pode se mover para cima até que chegue na extremidade inferior, após isso, mesmo que o jogador tente mover a peça para baixo nada acontecerá."
      ],
      "metadata": {
        "id": "W6L9RyXaCluG"
      }
    },
    {
      "cell_type": "code",
      "source": [
        "tabuleiro.baixo()"
      ],
      "metadata": {
        "colab": {
          "base_uri": "https://localhost:8080/"
        },
        "id": "INxCcEa8EwSR",
        "outputId": "1366399e-a7a3-405e-9c41-350f4b159c2f"
      },
      "execution_count": 122,
      "outputs": [
        {
          "output_type": "stream",
          "name": "stdout",
          "text": [
            "6 3 2\n",
            "5 4 0\n",
            "7 1 8\n",
            "\n"
          ]
        }
      ]
    },
    {
      "cell_type": "code",
      "source": [
        "tabuleiro.baixo()"
      ],
      "metadata": {
        "colab": {
          "base_uri": "https://localhost:8080/"
        },
        "id": "2HDc7vN8ExHF",
        "outputId": "aec61ddd-abec-4693-f591-61d9c30d974f"
      },
      "execution_count": 123,
      "outputs": [
        {
          "output_type": "stream",
          "name": "stdout",
          "text": [
            "6 3 2\n",
            "5 4 8\n",
            "7 1 0\n",
            "\n"
          ]
        }
      ]
    },
    {
      "cell_type": "markdown",
      "source": [
        "Perceba na célula acima que a posição vazia já se encontra na extremidade inferior, por isso, ao tentar movimentar novamente para baixo nada acontecerá. Isto pode ser visto a seguir"
      ],
      "metadata": {
        "id": "luqterebE7L7"
      }
    },
    {
      "cell_type": "code",
      "source": [
        "tabuleiro.baixo()"
      ],
      "metadata": {
        "colab": {
          "base_uri": "https://localhost:8080/"
        },
        "id": "7iNlV7StEx2Q",
        "outputId": "2d96cee5-06db-4054-bca9-7ee1365d0183"
      },
      "execution_count": 124,
      "outputs": [
        {
          "output_type": "stream",
          "name": "stdout",
          "text": [
            "6 3 2\n",
            "5 4 8\n",
            "7 1 0\n",
            "\n"
          ]
        }
      ]
    },
    {
      "cell_type": "markdown",
      "source": [
        "## Estado final\n",
        "\n",
        "Esse estado representa que o jogador completou o jogo, esse é o objetivo por isso é o estado final."
      ],
      "metadata": {
        "id": "B_krAewHAi3z"
      }
    },
    {
      "cell_type": "code",
      "source": [
        "tabuleiro.estado_final()"
      ],
      "metadata": {
        "colab": {
          "base_uri": "https://localhost:8080/"
        },
        "id": "aBKUYOTwAow0",
        "outputId": "40ccd22c-9cc4-4a02-a2b6-fe5d34734db0"
      },
      "execution_count": 125,
      "outputs": [
        {
          "output_type": "stream",
          "name": "stdout",
          "text": [
            "1 2 3\n",
            "4 5 6\n",
            "7 8 0\n",
            "\n"
          ]
        }
      ]
    }
  ]
}