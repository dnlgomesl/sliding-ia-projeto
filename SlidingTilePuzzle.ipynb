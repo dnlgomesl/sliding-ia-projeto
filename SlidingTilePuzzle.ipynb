{
  "nbformat": 4,
  "nbformat_minor": 0,
  "metadata": {
    "colab": {
      "name": "SlidingTilePuzzle.ipynb",
      "provenance": [],
      "collapsed_sections": [],
      "authorship_tag": "ABX9TyM2w6Jd+sAb5APuDzCydIql",
      "include_colab_link": true
    },
    "kernelspec": {
      "name": "python3",
      "display_name": "Python 3"
    },
    "language_info": {
      "name": "python"
    }
  },
  "cells": [
    {
      "cell_type": "markdown",
      "metadata": {
        "id": "view-in-github",
        "colab_type": "text"
      },
      "source": [
        "<a href=\"https://colab.research.google.com/github/dnlgomesl/sliding-ia-projeto/blob/master/SlidingTilePuzzle.ipynb\" target=\"_parent\"><img src=\"https://colab.research.google.com/assets/colab-badge.svg\" alt=\"Open In Colab\"/></a>"
      ]
    },
    {
      "cell_type": "markdown",
      "source": [
        "# Sliding Tile Puzzle"
      ],
      "metadata": {
        "id": "BxbS2AuRzMlm"
      }
    },
    {
      "cell_type": "code",
      "execution_count": 152,
      "metadata": {
        "id": "WYBOqyaMt8Uy"
      },
      "outputs": [],
      "source": [
        "import random\n",
        "\n",
        "class SlidingTilePuzzle():\n",
        "  def __init__(self):\n",
        "    # Definindo tabuleiro final\n",
        "    self.tabuleiro_f = [[1, 2, 3], [4, 5, 6], [7, 8, 0]]\n",
        "    self.tabuleiro = self.cria_tabuleiro()\n",
        "    self.index = self.encontra_pos_vazia()\n",
        "    self.printTabuleiro(self.tabuleiro)\n",
        "\n",
        "\n",
        "  # Função para criação do tabuleiro, assumindo que a posição vazia é 0\n",
        "  def cria_tabuleiro(self):\n",
        "    tabuleiro = [[0, 0, 0], [0, 0, 0], [0, 0, 0]]\n",
        "\n",
        "    i = 1\n",
        "    while(i < 9):\n",
        "      linha = random.randint(0, 2)\n",
        "      coluna = random.randint(0, 2)\n",
        "\n",
        "      if tabuleiro[linha][coluna] == 0 and (linha != 2 or coluna != 2):\n",
        "        tabuleiro[linha][coluna] = i\n",
        "        i+=1\n",
        "      \n",
        "      if tabuleiro == self.tabuleiro_f:\n",
        "        tabuleiro = [[0, 0, 0], [0, 0, 0], [0, 0, 0]]\n",
        "        i = 1\n",
        "\n",
        "    return tabuleiro  \n",
        "  \n",
        "\n",
        "  def encontra_pos_vazia(self):\n",
        "    for l in range(len(self.tabuleiro)):\n",
        "      for c in range(len(self.tabuleiro[l])):\n",
        "        if self.tabuleiro[l][c] == 0:\n",
        "          return [l, c]\n",
        "\n",
        "\n",
        "  # Apenas convertendo o tabuleiro para vizualização\n",
        "  def printTabuleiro(self, tabuleiro):\n",
        "    tabuleiro_string = \"\"\n",
        "\n",
        "    for l in range(len(tabuleiro)):\n",
        "      for c in range(len(tabuleiro[l])):\n",
        "        tabuleiro_string += str(tabuleiro[l][c])\n",
        "\n",
        "        if c != 2:\n",
        "          tabuleiro_string += \" \"\n",
        "\n",
        "      tabuleiro_string += \"\\n\"\n",
        "    \n",
        "    print(tabuleiro_string)\n",
        "\n",
        "  \n",
        "  def direita(self):\n",
        "    l = self.index[0]\n",
        "    c = self.index[1]\n",
        "    if c != 2:\n",
        "      # Criando movimentação\n",
        "      temp = self.tabuleiro[l][c+1]\n",
        "      self.tabuleiro[l][c] = temp\n",
        "      self.tabuleiro[l][c+1] = 0\n",
        "      self.index[1] = c+1\n",
        "    \n",
        "    self.printTabuleiro(self.tabuleiro)\n",
        "\n",
        "\n",
        "  def esquerda(self):\n",
        "    l = self.index[0]\n",
        "    c = self.index[1]\n",
        "    if c != 0:\n",
        "      # Criando movimentação\n",
        "      temp = self.tabuleiro[l][c-1]\n",
        "      self.tabuleiro[l][c] = temp\n",
        "      self.tabuleiro[l][c-1] = 0\n",
        "      self.index[1] = c-1\n",
        "\n",
        "    self.printTabuleiro(self.tabuleiro)\n",
        "\n",
        "\n",
        "  def cima(self):\n",
        "    l = self.index[0]\n",
        "    c = self.index[1]\n",
        "    if l != 0:\n",
        "      # Criando movimentação\n",
        "      temp = self.tabuleiro[l-1][c]\n",
        "      self.tabuleiro[l][c] = temp\n",
        "      self.tabuleiro[l-1][c] = 0\n",
        "      self.index[0] = l-1\n",
        "    \n",
        "    self.printTabuleiro(self.tabuleiro)\n",
        "\n",
        "\n",
        "  def baixo(self):\n",
        "    l = self.index[0]\n",
        "    c = self.index[1]\n",
        "    if l != 2:\n",
        "      # Criando movimentação\n",
        "      temp = self.tabuleiro[l+1][c]\n",
        "      self.tabuleiro[l][c] = temp\n",
        "      self.tabuleiro[l+1][c] = 0\n",
        "      self.index[0] = l+1\n",
        "    \n",
        "    self.printTabuleiro(self.tabuleiro)\n",
        "  \n",
        "\n",
        "  def estado_final(self):\n",
        "    self.printTabuleiro(self.tabuleiro_f)"
      ]
    },
    {
      "cell_type": "markdown",
      "source": [
        "## Estados para um tabuleiro aleatório\n",
        "\n",
        "Por definição do jogo o espaço vazio é o espaço que se move, aqui definimos o espaço vazio como sendo 0. O estado inicial sempre virá com a posição vazia sendo a posição inferior mais a direita. E nunca será igual ao estado final."
      ],
      "metadata": {
        "id": "RIX_EBJs_ULF"
      }
    },
    {
      "cell_type": "code",
      "source": [
        "# Criando um tabuleiro aleatorio\n",
        "tabuleiro = SlidingTilePuzzle()"
      ],
      "metadata": {
        "colab": {
          "base_uri": "https://localhost:8080/"
        },
        "id": "Z_ZS9J6jyq88",
        "outputId": "54d8a415-48ae-42d0-84ff-a35beb2be704"
      },
      "execution_count": 153,
      "outputs": [
        {
          "output_type": "stream",
          "name": "stdout",
          "text": [
            "1 5 2\n",
            "6 8 3\n",
            "7 4 0\n",
            "\n"
          ]
        }
      ]
    },
    {
      "cell_type": "markdown",
      "source": [
        "## Movendo o espaço vazio para a esquerda\n",
        "\n",
        "O espaço vazio pode se mover para esquerda até que chegue na extremidade esquerda, após isso, mesmo que o jogador tente mover a peça para a esquerda nada acontecerá."
      ],
      "metadata": {
        "id": "Z8h-J5eNB-5Y"
      }
    },
    {
      "cell_type": "code",
      "source": [
        "tabuleiro.esquerda()"
      ],
      "metadata": {
        "colab": {
          "base_uri": "https://localhost:8080/"
        },
        "id": "RwdOHjrw7dlw",
        "outputId": "40b986f1-2edc-49c6-9b33-24f0b5feb0a0"
      },
      "execution_count": 154,
      "outputs": [
        {
          "output_type": "stream",
          "name": "stdout",
          "text": [
            "1 5 2\n",
            "6 8 3\n",
            "7 0 4\n",
            "\n"
          ]
        }
      ]
    },
    {
      "cell_type": "code",
      "source": [
        "tabuleiro.esquerda()"
      ],
      "metadata": {
        "colab": {
          "base_uri": "https://localhost:8080/"
        },
        "id": "mfs5WbwICsJh",
        "outputId": "58e191e6-3fb9-439e-b717-73367f0cf0a5"
      },
      "execution_count": 155,
      "outputs": [
        {
          "output_type": "stream",
          "name": "stdout",
          "text": [
            "1 5 2\n",
            "6 8 3\n",
            "0 7 4\n",
            "\n"
          ]
        }
      ]
    },
    {
      "cell_type": "markdown",
      "source": [
        "Perceba na célula acima que a posição vazia já se encontra na extremidade esquerda, por isso, ao tentar movimentar novamente para esquerda nada acontecerá. Isto pode ser visto a seguir"
      ],
      "metadata": {
        "id": "clFiJCRXC9Kr"
      }
    },
    {
      "cell_type": "code",
      "source": [
        "tabuleiro.esquerda()"
      ],
      "metadata": {
        "colab": {
          "base_uri": "https://localhost:8080/"
        },
        "id": "BWJEOwGzCtYJ",
        "outputId": "6a7c94ad-2531-44b0-cb2e-91284f7340eb"
      },
      "execution_count": 156,
      "outputs": [
        {
          "output_type": "stream",
          "name": "stdout",
          "text": [
            "1 5 2\n",
            "6 8 3\n",
            "0 7 4\n",
            "\n"
          ]
        }
      ]
    },
    {
      "cell_type": "markdown",
      "source": [
        "## Movendo o espaço vazio para a direita\n",
        "\n",
        "O espaço vazio pode se mover para direita até que chegue na extremidade direita, após isso, mesmo que o jogador tente mover a peça para a direita nada acontecerá."
      ],
      "metadata": {
        "id": "1C6n1jvlBo1h"
      }
    },
    {
      "cell_type": "code",
      "source": [
        "tabuleiro.direita()"
      ],
      "metadata": {
        "colab": {
          "base_uri": "https://localhost:8080/"
        },
        "id": "RvbZGw6O-b50",
        "outputId": "ea884e8f-2af5-43f9-cb3b-20c556853f0a"
      },
      "execution_count": 157,
      "outputs": [
        {
          "output_type": "stream",
          "name": "stdout",
          "text": [
            "1 5 2\n",
            "6 8 3\n",
            "7 0 4\n",
            "\n"
          ]
        }
      ]
    },
    {
      "cell_type": "code",
      "source": [
        "tabuleiro.direita()"
      ],
      "metadata": {
        "colab": {
          "base_uri": "https://localhost:8080/"
        },
        "id": "d-M71ra7CInO",
        "outputId": "d28b92bc-86a7-4f29-86d4-bfaeb416a71c"
      },
      "execution_count": 158,
      "outputs": [
        {
          "output_type": "stream",
          "name": "stdout",
          "text": [
            "1 5 2\n",
            "6 8 3\n",
            "7 4 0\n",
            "\n"
          ]
        }
      ]
    },
    {
      "cell_type": "markdown",
      "source": [
        "Perceba na célula acima que a posição vazia já se encontra na extremidade direita, por isso, ao tentar movimentar novamente nada acontecerá. Isto pode ser visto a seguir"
      ],
      "metadata": {
        "id": "wlzi8IEACUYF"
      }
    },
    {
      "cell_type": "code",
      "source": [
        "tabuleiro.direita()"
      ],
      "metadata": {
        "colab": {
          "base_uri": "https://localhost:8080/"
        },
        "id": "sbTAjKTvCKbg",
        "outputId": "59e5dfd4-b7a7-485e-ce1c-0b73cf183b45"
      },
      "execution_count": 159,
      "outputs": [
        {
          "output_type": "stream",
          "name": "stdout",
          "text": [
            "1 5 2\n",
            "6 8 3\n",
            "7 4 0\n",
            "\n"
          ]
        }
      ]
    },
    {
      "cell_type": "markdown",
      "source": [
        "## Movendo o espaço vazio para cima\n",
        "\n",
        "O espaço vazio pode se mover para cima até que chegue na extremidade superior, após isso, mesmo que o jogador tente mover a peça para a cima nada acontecerá."
      ],
      "metadata": {
        "id": "6t9vyQmOCjmG"
      }
    },
    {
      "cell_type": "code",
      "source": [
        "tabuleiro.cima()"
      ],
      "metadata": {
        "colab": {
          "base_uri": "https://localhost:8080/"
        },
        "id": "bHeHInT5-d37",
        "outputId": "087fa653-afde-4cca-94da-4b8629330c1c"
      },
      "execution_count": 160,
      "outputs": [
        {
          "output_type": "stream",
          "name": "stdout",
          "text": [
            "1 5 2\n",
            "6 8 0\n",
            "7 4 3\n",
            "\n"
          ]
        }
      ]
    },
    {
      "cell_type": "code",
      "source": [
        "tabuleiro.cima()"
      ],
      "metadata": {
        "colab": {
          "base_uri": "https://localhost:8080/"
        },
        "id": "9cmqrY_5FNpb",
        "outputId": "378a2cb5-26a4-47a8-ff3e-3f4a82dde26b"
      },
      "execution_count": 161,
      "outputs": [
        {
          "output_type": "stream",
          "name": "stdout",
          "text": [
            "1 5 0\n",
            "6 8 2\n",
            "7 4 3\n",
            "\n"
          ]
        }
      ]
    },
    {
      "cell_type": "markdown",
      "source": [
        "Perceba na célula acima que a posição vazia já se encontra na extremidade superior, por isso, ao tentar movimentar novamente nada acontecerá. Isto pode ser visto a seguir"
      ],
      "metadata": {
        "id": "My4vzgT9DiYZ"
      }
    },
    {
      "cell_type": "code",
      "source": [
        "tabuleiro.cima()"
      ],
      "metadata": {
        "colab": {
          "base_uri": "https://localhost:8080/"
        },
        "id": "j0nMvtY8Dmpu",
        "outputId": "083bc366-3f46-4945-f50a-98e09aab8be4"
      },
      "execution_count": 162,
      "outputs": [
        {
          "output_type": "stream",
          "name": "stdout",
          "text": [
            "1 5 0\n",
            "6 8 2\n",
            "7 4 3\n",
            "\n"
          ]
        }
      ]
    },
    {
      "cell_type": "markdown",
      "source": [
        "## Movendo o espaço vazio para baixo\n",
        "\n",
        "O espaço vazio pode se mover para cima até que chegue na extremidade inferior, após isso, mesmo que o jogador tente mover a peça para baixo nada acontecerá."
      ],
      "metadata": {
        "id": "W6L9RyXaCluG"
      }
    },
    {
      "cell_type": "code",
      "source": [
        "tabuleiro.baixo()"
      ],
      "metadata": {
        "colab": {
          "base_uri": "https://localhost:8080/"
        },
        "id": "INxCcEa8EwSR",
        "outputId": "4698e207-9bd6-4f48-d870-af57d60df3ff"
      },
      "execution_count": 163,
      "outputs": [
        {
          "output_type": "stream",
          "name": "stdout",
          "text": [
            "1 5 2\n",
            "6 8 0\n",
            "7 4 3\n",
            "\n"
          ]
        }
      ]
    },
    {
      "cell_type": "code",
      "source": [
        "tabuleiro.baixo()"
      ],
      "metadata": {
        "colab": {
          "base_uri": "https://localhost:8080/"
        },
        "id": "2HDc7vN8ExHF",
        "outputId": "789c664c-b223-4179-b025-4e11f27225d8"
      },
      "execution_count": 164,
      "outputs": [
        {
          "output_type": "stream",
          "name": "stdout",
          "text": [
            "1 5 2\n",
            "6 8 3\n",
            "7 4 0\n",
            "\n"
          ]
        }
      ]
    },
    {
      "cell_type": "markdown",
      "source": [
        "Perceba na célula acima que a posição vazia já se encontra na extremidade inferior, por isso, ao tentar movimentar novamente para baixo nada acontecerá. Isto pode ser visto a seguir"
      ],
      "metadata": {
        "id": "luqterebE7L7"
      }
    },
    {
      "cell_type": "code",
      "source": [
        "tabuleiro.baixo()"
      ],
      "metadata": {
        "colab": {
          "base_uri": "https://localhost:8080/"
        },
        "id": "7iNlV7StEx2Q",
        "outputId": "9bfa1178-4e32-498b-d8b7-ce2b3b99bce6"
      },
      "execution_count": 165,
      "outputs": [
        {
          "output_type": "stream",
          "name": "stdout",
          "text": [
            "1 5 2\n",
            "6 8 3\n",
            "7 4 0\n",
            "\n"
          ]
        }
      ]
    },
    {
      "cell_type": "markdown",
      "source": [
        "## Estado final\n",
        "\n",
        "Esse estado representa que o jogador completou o jogo, esse é o objetivo por isso é o estado final."
      ],
      "metadata": {
        "id": "B_krAewHAi3z"
      }
    },
    {
      "cell_type": "code",
      "source": [
        "tabuleiro.estado_final()"
      ],
      "metadata": {
        "colab": {
          "base_uri": "https://localhost:8080/"
        },
        "id": "aBKUYOTwAow0",
        "outputId": "fee467ea-f245-42cd-fafe-c8bcf9003d74"
      },
      "execution_count": 166,
      "outputs": [
        {
          "output_type": "stream",
          "name": "stdout",
          "text": [
            "1 2 3\n",
            "4 5 6\n",
            "7 8 0\n",
            "\n"
          ]
        }
      ]
    }
  ]
}