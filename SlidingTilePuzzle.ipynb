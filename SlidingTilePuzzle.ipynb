{
  "nbformat": 4,
  "nbformat_minor": 0,
  "metadata": {
    "colab": {
      "name": "SlidingTilePuzzle.ipynb",
      "provenance": [],
      "collapsed_sections": [],
      "authorship_tag": "ABX9TyPHLE3IRKeWuzkh6NzXY8Lw",
      "include_colab_link": true
    },
    "kernelspec": {
      "name": "python3",
      "display_name": "Python 3"
    },
    "language_info": {
      "name": "python"
    }
  },
  "cells": [
    {
      "cell_type": "markdown",
      "metadata": {
        "id": "view-in-github",
        "colab_type": "text"
      },
      "source": [
        "<a href=\"https://colab.research.google.com/github/dnlgomesl/sliding-ia-projeto/blob/master/SlidingTilePuzzle.ipynb\" target=\"_parent\"><img src=\"https://colab.research.google.com/assets/colab-badge.svg\" alt=\"Open In Colab\"/></a>"
      ]
    },
    {
      "cell_type": "markdown",
      "source": [
        "# Sliding Tile Puzzle"
      ],
      "metadata": {
        "id": "BxbS2AuRzMlm"
      }
    },
    {
      "cell_type": "code",
      "execution_count": 24,
      "metadata": {
        "id": "WYBOqyaMt8Uy"
      },
      "outputs": [],
      "source": [
        "import random\n",
        "\n",
        "class SlidingTilePuzzle():\n",
        "  def __init__(self):\n",
        "    # Definindo tabuleiro final\n",
        "    self.tabuleiro_f = [[1, 2, 3], [4, 5, 6], [7, 8, 0]]\n",
        "    self.tabuleiro = self.cria_tabuleiro()\n",
        "    self.index = self.encontra_pos_vazia()\n",
        "\n",
        "\n",
        "  # Função para criação do tabuleiro, assumindo que a posição vazia é 0\n",
        "  def cria_tabuleiro(self):\n",
        "    tabuleiro = [[0, 0, 0], [0, 0, 0], [0, 0, 0]]\n",
        "\n",
        "    i = 1\n",
        "    while(i < 9):\n",
        "      linha = random.randint(0, 2)\n",
        "      coluna = random.randint(0, 2)\n",
        "\n",
        "      if tabuleiro[linha][coluna] == 0 and (linha != 2 or coluna != 2):\n",
        "        tabuleiro[linha][coluna] = i\n",
        "        i+=1\n",
        "      \n",
        "      if tabuleiro == self.tabuleiro_f:\n",
        "        tabuleiro = [[0, 0, 0], [0, 0, 0], [0, 0, 0]]\n",
        "        i = 1\n",
        "\n",
        "    return tabuleiro  \n",
        "  \n",
        "\n",
        "  def encontra_pos_vazia(self):\n",
        "    for l in range(len(self.tabuleiro)):\n",
        "      for c in range(len(self.tabuleiro[l])):\n",
        "        if self.tabuleiro[l][c] == 0:\n",
        "          return [l, c]\n",
        "\n",
        "\n",
        "  # Apenas convertendo o tabuleiro para vizualização\n",
        "  def print_tabuleiro(self, tabuleiro=None):\n",
        "    if not tabuleiro:\n",
        "      tabuleiro = self.tabuleiro\n",
        "    \n",
        "    tabuleiro_string = \"\"\n",
        "\n",
        "    for l in range(len(tabuleiro)):\n",
        "      for c in range(len(tabuleiro[l])):\n",
        "        tabuleiro_string += str(tabuleiro[l][c])\n",
        "\n",
        "        if c != 2:\n",
        "          tabuleiro_string += \" \"\n",
        "\n",
        "      tabuleiro_string += \"\\n\"\n",
        "    \n",
        "    print(tabuleiro_string)\n",
        "\n",
        "  \n",
        "  def direita(self):\n",
        "    l = self.index[0]\n",
        "    c = self.index[1]\n",
        "    if c != 2:\n",
        "      # Criando movimentação\n",
        "      temp = self.tabuleiro[l][c+1]\n",
        "      self.tabuleiro[l][c] = temp\n",
        "      self.tabuleiro[l][c+1] = 0\n",
        "      self.index[1] = c+1\n",
        "    \n",
        "\n",
        "  def esquerda(self):\n",
        "    l = self.index[0]\n",
        "    c = self.index[1]\n",
        "    if c != 0:\n",
        "      # Criando movimentação\n",
        "      temp = self.tabuleiro[l][c-1]\n",
        "      self.tabuleiro[l][c] = temp\n",
        "      self.tabuleiro[l][c-1] = 0\n",
        "      self.index[1] = c-1\n",
        "\n",
        "\n",
        "  def cima(self):\n",
        "    l = self.index[0]\n",
        "    c = self.index[1]\n",
        "    if l != 0:\n",
        "      # Criando movimentação\n",
        "      temp = self.tabuleiro[l-1][c]\n",
        "      self.tabuleiro[l][c] = temp\n",
        "      self.tabuleiro[l-1][c] = 0\n",
        "      self.index[0] = l-1\n",
        "\n",
        "\n",
        "  def baixo(self):\n",
        "    l = self.index[0]\n",
        "    c = self.index[1]\n",
        "    if l != 2:\n",
        "      # Criando movimentação\n",
        "      temp = self.tabuleiro[l+1][c]\n",
        "      self.tabuleiro[l][c] = temp\n",
        "      self.tabuleiro[l+1][c] = 0\n",
        "      self.index[0] = l+1\n",
        "  \n",
        "\n",
        "  def estado_final(self):\n",
        "    self.print_tabuleiro(self.tabuleiro_f)\n"
      ]
    },
    {
      "cell_type": "markdown",
      "source": [
        "## Estados para um tabuleiro aleatório\n",
        "\n",
        "Por definição do jogo o espaço vazio é o espaço que se move, aqui definimos o espaço vazio como sendo 0. O estado inicial sempre virá com a posição vazia sendo a posição inferior mais a direita. E nunca será igual ao estado final."
      ],
      "metadata": {
        "id": "RIX_EBJs_ULF"
      }
    },
    {
      "cell_type": "code",
      "source": [
        "# Criando um tabuleiro aleatorio\n",
        "tabuleiro = SlidingTilePuzzle()\n",
        "tabuleiro.print_tabuleiro()"
      ],
      "metadata": {
        "colab": {
          "base_uri": "https://localhost:8080/"
        },
        "id": "Z_ZS9J6jyq88",
        "outputId": "32a9be47-d2db-49f7-def1-4165f29656a4"
      },
      "execution_count": 25,
      "outputs": [
        {
          "output_type": "stream",
          "name": "stdout",
          "text": [
            "1 4 8\n",
            "3 6 7\n",
            "5 2 0\n",
            "\n"
          ]
        }
      ]
    },
    {
      "cell_type": "markdown",
      "source": [
        "## Movendo o espaço vazio para a esquerda\n",
        "\n",
        "O espaço vazio pode se mover para esquerda até que chegue na extremidade esquerda, após isso, mesmo que o jogador tente mover a peça para a esquerda nada acontecerá."
      ],
      "metadata": {
        "id": "Z8h-J5eNB-5Y"
      }
    },
    {
      "cell_type": "code",
      "source": [
        "tabuleiro.esquerda()\n",
        "tabuleiro.print_tabuleiro()"
      ],
      "metadata": {
        "colab": {
          "base_uri": "https://localhost:8080/"
        },
        "id": "RwdOHjrw7dlw",
        "outputId": "21042b93-0516-44b8-c102-ce8e2b2022f4"
      },
      "execution_count": 26,
      "outputs": [
        {
          "output_type": "stream",
          "name": "stdout",
          "text": [
            "1 4 8\n",
            "3 6 7\n",
            "5 0 2\n",
            "\n"
          ]
        }
      ]
    },
    {
      "cell_type": "code",
      "source": [
        "tabuleiro.esquerda()\n",
        "tabuleiro.print_tabuleiro()"
      ],
      "metadata": {
        "colab": {
          "base_uri": "https://localhost:8080/"
        },
        "id": "mfs5WbwICsJh",
        "outputId": "d39a2d00-38cc-4aa5-9dc9-bb71b3c3656f"
      },
      "execution_count": 27,
      "outputs": [
        {
          "output_type": "stream",
          "name": "stdout",
          "text": [
            "1 4 8\n",
            "3 6 7\n",
            "0 5 2\n",
            "\n"
          ]
        }
      ]
    },
    {
      "cell_type": "markdown",
      "source": [
        "Perceba na célula acima que a posição vazia já se encontra na extremidade esquerda, por isso, ao tentar movimentar novamente para esquerda nada acontecerá. Isto pode ser visto a seguir"
      ],
      "metadata": {
        "id": "clFiJCRXC9Kr"
      }
    },
    {
      "cell_type": "code",
      "source": [
        "tabuleiro.esquerda()\n",
        "tabuleiro.print_tabuleiro()"
      ],
      "metadata": {
        "colab": {
          "base_uri": "https://localhost:8080/"
        },
        "id": "BWJEOwGzCtYJ",
        "outputId": "7f9c4b51-c9b4-4674-f6cb-00434bc0c605"
      },
      "execution_count": 28,
      "outputs": [
        {
          "output_type": "stream",
          "name": "stdout",
          "text": [
            "1 4 8\n",
            "3 6 7\n",
            "0 5 2\n",
            "\n"
          ]
        }
      ]
    },
    {
      "cell_type": "markdown",
      "source": [
        "## Movendo o espaço vazio para a direita\n",
        "\n",
        "O espaço vazio pode se mover para direita até que chegue na extremidade direita, após isso, mesmo que o jogador tente mover a peça para a direita nada acontecerá."
      ],
      "metadata": {
        "id": "1C6n1jvlBo1h"
      }
    },
    {
      "cell_type": "code",
      "source": [
        "tabuleiro.direita()\n",
        "tabuleiro.print_tabuleiro()"
      ],
      "metadata": {
        "colab": {
          "base_uri": "https://localhost:8080/"
        },
        "id": "RvbZGw6O-b50",
        "outputId": "3b633540-2b90-4d92-8ef6-ec2dd14dde16"
      },
      "execution_count": 29,
      "outputs": [
        {
          "output_type": "stream",
          "name": "stdout",
          "text": [
            "1 4 8\n",
            "3 6 7\n",
            "5 0 2\n",
            "\n"
          ]
        }
      ]
    },
    {
      "cell_type": "code",
      "source": [
        "tabuleiro.direita()\n",
        "tabuleiro.print_tabuleiro()"
      ],
      "metadata": {
        "colab": {
          "base_uri": "https://localhost:8080/"
        },
        "id": "d-M71ra7CInO",
        "outputId": "d344aa57-b2e9-49b1-9d24-3b05c30d5b1c"
      },
      "execution_count": 30,
      "outputs": [
        {
          "output_type": "stream",
          "name": "stdout",
          "text": [
            "1 4 8\n",
            "3 6 7\n",
            "5 2 0\n",
            "\n"
          ]
        }
      ]
    },
    {
      "cell_type": "markdown",
      "source": [
        "Perceba na célula acima que a posição vazia já se encontra na extremidade direita, por isso, ao tentar movimentar novamente nada acontecerá. Isto pode ser visto a seguir"
      ],
      "metadata": {
        "id": "wlzi8IEACUYF"
      }
    },
    {
      "cell_type": "code",
      "source": [
        "tabuleiro.direita()\n",
        "tabuleiro.print_tabuleiro()"
      ],
      "metadata": {
        "colab": {
          "base_uri": "https://localhost:8080/"
        },
        "id": "sbTAjKTvCKbg",
        "outputId": "4f8acfd4-eddd-48ee-9e3f-c2a1dc0aa458"
      },
      "execution_count": 31,
      "outputs": [
        {
          "output_type": "stream",
          "name": "stdout",
          "text": [
            "1 4 8\n",
            "3 6 7\n",
            "5 2 0\n",
            "\n"
          ]
        }
      ]
    },
    {
      "cell_type": "markdown",
      "source": [
        "## Movendo o espaço vazio para cima\n",
        "\n",
        "O espaço vazio pode se mover para cima até que chegue na extremidade superior, após isso, mesmo que o jogador tente mover a peça para a cima nada acontecerá."
      ],
      "metadata": {
        "id": "6t9vyQmOCjmG"
      }
    },
    {
      "cell_type": "code",
      "source": [
        "tabuleiro.cima()\n",
        "tabuleiro.print_tabuleiro()"
      ],
      "metadata": {
        "colab": {
          "base_uri": "https://localhost:8080/"
        },
        "id": "bHeHInT5-d37",
        "outputId": "2c55aa17-99ae-4d0f-b143-780516822b97"
      },
      "execution_count": 32,
      "outputs": [
        {
          "output_type": "stream",
          "name": "stdout",
          "text": [
            "1 4 8\n",
            "3 6 0\n",
            "5 2 7\n",
            "\n"
          ]
        }
      ]
    },
    {
      "cell_type": "code",
      "source": [
        "tabuleiro.cima()\n",
        "tabuleiro.print_tabuleiro()"
      ],
      "metadata": {
        "colab": {
          "base_uri": "https://localhost:8080/"
        },
        "id": "9cmqrY_5FNpb",
        "outputId": "e5a51168-2b64-4cf5-c601-ee17f4ffbd69"
      },
      "execution_count": 33,
      "outputs": [
        {
          "output_type": "stream",
          "name": "stdout",
          "text": [
            "1 4 0\n",
            "3 6 8\n",
            "5 2 7\n",
            "\n"
          ]
        }
      ]
    },
    {
      "cell_type": "markdown",
      "source": [
        "Perceba na célula acima que a posição vazia já se encontra na extremidade superior, por isso, ao tentar movimentar novamente nada acontecerá. Isto pode ser visto a seguir"
      ],
      "metadata": {
        "id": "My4vzgT9DiYZ"
      }
    },
    {
      "cell_type": "code",
      "source": [
        "tabuleiro.cima()\n",
        "tabuleiro.print_tabuleiro()"
      ],
      "metadata": {
        "colab": {
          "base_uri": "https://localhost:8080/"
        },
        "id": "j0nMvtY8Dmpu",
        "outputId": "2a4b114f-3c82-41e0-b465-eea4123d2426"
      },
      "execution_count": 34,
      "outputs": [
        {
          "output_type": "stream",
          "name": "stdout",
          "text": [
            "1 4 0\n",
            "3 6 8\n",
            "5 2 7\n",
            "\n"
          ]
        }
      ]
    },
    {
      "cell_type": "markdown",
      "source": [
        "## Movendo o espaço vazio para baixo\n",
        "\n",
        "O espaço vazio pode se mover para cima até que chegue na extremidade inferior, após isso, mesmo que o jogador tente mover a peça para baixo nada acontecerá."
      ],
      "metadata": {
        "id": "W6L9RyXaCluG"
      }
    },
    {
      "cell_type": "code",
      "source": [
        "tabuleiro.baixo()\n",
        "tabuleiro.print_tabuleiro()"
      ],
      "metadata": {
        "colab": {
          "base_uri": "https://localhost:8080/"
        },
        "id": "INxCcEa8EwSR",
        "outputId": "dd183ea4-a4a6-4886-ecf8-da4d8784e05b"
      },
      "execution_count": 35,
      "outputs": [
        {
          "output_type": "stream",
          "name": "stdout",
          "text": [
            "1 4 8\n",
            "3 6 0\n",
            "5 2 7\n",
            "\n"
          ]
        }
      ]
    },
    {
      "cell_type": "code",
      "source": [
        "tabuleiro.baixo()\n",
        "tabuleiro.print_tabuleiro()"
      ],
      "metadata": {
        "colab": {
          "base_uri": "https://localhost:8080/"
        },
        "id": "2HDc7vN8ExHF",
        "outputId": "a51c37f3-c2a6-4ff4-c963-7e043919ea1e"
      },
      "execution_count": 36,
      "outputs": [
        {
          "output_type": "stream",
          "name": "stdout",
          "text": [
            "1 4 8\n",
            "3 6 7\n",
            "5 2 0\n",
            "\n"
          ]
        }
      ]
    },
    {
      "cell_type": "markdown",
      "source": [
        "Perceba na célula acima que a posição vazia já se encontra na extremidade inferior, por isso, ao tentar movimentar novamente para baixo nada acontecerá. Isto pode ser visto a seguir"
      ],
      "metadata": {
        "id": "luqterebE7L7"
      }
    },
    {
      "cell_type": "code",
      "source": [
        "tabuleiro.baixo()\n",
        "tabuleiro.print_tabuleiro()"
      ],
      "metadata": {
        "colab": {
          "base_uri": "https://localhost:8080/"
        },
        "id": "7iNlV7StEx2Q",
        "outputId": "b3b0b60a-cefb-4c7a-f9e9-c1bc1760879c"
      },
      "execution_count": 37,
      "outputs": [
        {
          "output_type": "stream",
          "name": "stdout",
          "text": [
            "1 4 8\n",
            "3 6 7\n",
            "5 2 0\n",
            "\n"
          ]
        }
      ]
    },
    {
      "cell_type": "markdown",
      "source": [
        "## Estado final\n",
        "\n",
        "Esse estado representa que o jogador completou o jogo, esse é o objetivo por isso é o estado final."
      ],
      "metadata": {
        "id": "B_krAewHAi3z"
      }
    },
    {
      "cell_type": "code",
      "source": [
        "tabuleiro.estado_final()"
      ],
      "metadata": {
        "colab": {
          "base_uri": "https://localhost:8080/"
        },
        "id": "aBKUYOTwAow0",
        "outputId": "566975ce-1ce3-405c-9174-07bfd254edae"
      },
      "execution_count": 38,
      "outputs": [
        {
          "output_type": "stream",
          "name": "stdout",
          "text": [
            "1 2 3\n",
            "4 5 6\n",
            "7 8 0\n",
            "\n"
          ]
        }
      ]
    }
  ]
}