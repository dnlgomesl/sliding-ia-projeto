{
  "nbformat": 4,
  "nbformat_minor": 0,
  "metadata": {
    "colab": {
      "name": "SlidingTilePuzzle.ipynb",
      "provenance": [],
      "collapsed_sections": []
    },
    "kernelspec": {
      "name": "python3",
      "display_name": "Python 3"
    },
    "language_info": {
      "name": "python"
    }
  },
  "cells": [
    {
      "cell_type": "markdown",
      "source": [
        "# Sliding Tile Puzzle"
      ],
      "metadata": {
        "id": "BxbS2AuRzMlm"
      }
    },
    {
      "cell_type": "code",
      "execution_count": 80,
      "metadata": {
        "id": "WYBOqyaMt8Uy"
      },
      "outputs": [],
      "source": [
        "import random\n",
        "\n",
        "class SlidingTilePuzzle():\n",
        "  def __init__(self):\n",
        "    # Definindo tabuleiro final\n",
        "    self.tabuleiro_f = [[1, 2, 3], [4, 5, 6], [7, 8, 0]]\n",
        "    self.tabuleiro = self.cria_tabuleiro()\n",
        "    self.index = self.encontra_pos_vazia()\n",
        "    self.printTabuleiro(self.tabuleiro)\n",
        "\n",
        "\n",
        "  # Função para criação do tabuleiro, assumindo que a posição vazia é 0\n",
        "  def cria_tabuleiro(self):\n",
        "    tabuleiro = [[0, 0, 0], [0, 0, 0], [0, 0, 0]]\n",
        "\n",
        "    i = 1\n",
        "    while(i < 9):\n",
        "      linha = random.randint(0, 2)\n",
        "      coluna = random.randint(0, 2)\n",
        "\n",
        "      if tabuleiro[linha][coluna] == 0:\n",
        "        tabuleiro[linha][coluna] = i\n",
        "        i+=1\n",
        "\n",
        "    return tabuleiro  \n",
        "  \n",
        "\n",
        "  def encontra_pos_vazia(self):\n",
        "    for l in range(len(self.tabuleiro)):\n",
        "      for c in range(len(self.tabuleiro[l])):\n",
        "        if self.tabuleiro[l][c] == 0:\n",
        "          return [l, c]\n",
        "\n",
        "\n",
        "  # Apenas convertendo o tabuleiro para vizualização\n",
        "  def printTabuleiro(self, tabuleiro):\n",
        "    tabuleiro_string = \"\"\n",
        "\n",
        "    for l in range(len(tabuleiro)):\n",
        "      for c in range(len(tabuleiro[l])):\n",
        "        tabuleiro_string += str(tabuleiro[l][c])\n",
        "\n",
        "        if c != 2:\n",
        "          tabuleiro_string += \" \"\n",
        "\n",
        "      tabuleiro_string += \"\\n\"\n",
        "    \n",
        "    print(tabuleiro_string)\n",
        "\n",
        "  \n",
        "  def direita(self):\n",
        "    l = self.index[0]\n",
        "    c = self.index[1]\n",
        "    if c != 2:\n",
        "      # Criando movimentação\n",
        "      temp = self.tabuleiro[l][c+1]\n",
        "      self.tabuleiro[l][c] = temp\n",
        "      self.tabuleiro[l][c+1] = 0\n",
        "      self.index[1] = c+1\n",
        "    \n",
        "    self.printTabuleiro(self.tabuleiro)\n",
        "\n",
        "\n",
        "  def esquerda(self):\n",
        "    l = self.index[0]\n",
        "    c = self.index[1]\n",
        "    if c != 0:\n",
        "      # Criando movimentação\n",
        "      temp = self.tabuleiro[l][c-1]\n",
        "      self.tabuleiro[l][c] = temp\n",
        "      self.tabuleiro[l][c-1] = 0\n",
        "      self.index[1] = c-1\n",
        "\n",
        "    self.printTabuleiro(self.tabuleiro)\n",
        "\n",
        "\n",
        "  def cima(self):\n",
        "    l = self.index[0]\n",
        "    c = self.index[1]\n",
        "    if l != 0:\n",
        "      # Criando movimentação\n",
        "      temp = self.tabuleiro[l-1][c]\n",
        "      self.tabuleiro[l][c] = temp\n",
        "      self.tabuleiro[l-1][c] = 0\n",
        "      self.index[0] = l-1\n",
        "    \n",
        "    self.printTabuleiro(self.tabuleiro)\n",
        "\n",
        "\n",
        "  def baixo(self):\n",
        "    l = self.index[0]\n",
        "    c = self.index[1]\n",
        "    if l != 2:\n",
        "      # Criando movimentação\n",
        "      temp = self.tabuleiro[l+1][c]\n",
        "      self.tabuleiro[l][c] = temp\n",
        "      self.tabuleiro[l+1][c] = 0\n",
        "      self.index[0] = l+1\n",
        "    \n",
        "    self.printTabuleiro(self.tabuleiro)\n",
        "  \n",
        "\n",
        "  def estado_final(self):\n",
        "    self.printTabuleiro(self.tabuleiro_f)"
      ]
    },
    {
      "cell_type": "markdown",
      "source": [
        "## Estados para um tabuleiro aleatório\n",
        "\n",
        "Por definição do jogo o espaço vazio é o espaço que se move, aqui definimos o espaço vazio como sendo 0."
      ],
      "metadata": {
        "id": "RIX_EBJs_ULF"
      }
    },
    {
      "cell_type": "code",
      "source": [
        "# Criando um tabuleiro aleatorio\n",
        "tabuleiro = SlidingTilePuzzle()"
      ],
      "metadata": {
        "colab": {
          "base_uri": "https://localhost:8080/"
        },
        "id": "Z_ZS9J6jyq88",
        "outputId": "a082a728-ad6b-4fe6-81f1-588a4d2f48b4"
      },
      "execution_count": 85,
      "outputs": [
        {
          "output_type": "stream",
          "name": "stdout",
          "text": [
            "0 8 5\n",
            "1 4 2\n",
            "6 7 3\n",
            "\n"
          ]
        }
      ]
    },
    {
      "cell_type": "markdown",
      "source": [
        "## Movendo o espaço vazio para a direita\n",
        "\n",
        "O espaço vazio pode se mover para direita até que chegue na extremidade direita, após isso, mesmo que o jogador tente mover a peça para a direita nada acontecerá."
      ],
      "metadata": {
        "id": "1C6n1jvlBo1h"
      }
    },
    {
      "cell_type": "code",
      "source": [
        "tabuleiro.direita()"
      ],
      "metadata": {
        "colab": {
          "base_uri": "https://localhost:8080/"
        },
        "id": "RvbZGw6O-b50",
        "outputId": "6212a45e-d5f4-44fb-ecdd-23857275f995"
      },
      "execution_count": 86,
      "outputs": [
        {
          "output_type": "stream",
          "name": "stdout",
          "text": [
            "8 0 5\n",
            "1 4 2\n",
            "6 7 3\n",
            "\n"
          ]
        }
      ]
    },
    {
      "cell_type": "code",
      "source": [
        "tabuleiro.direita()"
      ],
      "metadata": {
        "colab": {
          "base_uri": "https://localhost:8080/"
        },
        "id": "d-M71ra7CInO",
        "outputId": "8522c7d2-4502-49c6-85de-437c5ee132c6"
      },
      "execution_count": 87,
      "outputs": [
        {
          "output_type": "stream",
          "name": "stdout",
          "text": [
            "8 5 0\n",
            "1 4 2\n",
            "6 7 3\n",
            "\n"
          ]
        }
      ]
    },
    {
      "cell_type": "markdown",
      "source": [
        "Perceba na célula acima que a posição vazia já se encontra na extremidade direita, por isso, ao tentar movimentar novamente nada acontecerá. Isto pode ser visto a seguir"
      ],
      "metadata": {
        "id": "wlzi8IEACUYF"
      }
    },
    {
      "cell_type": "code",
      "source": [
        "tabuleiro.direita()"
      ],
      "metadata": {
        "colab": {
          "base_uri": "https://localhost:8080/"
        },
        "id": "sbTAjKTvCKbg",
        "outputId": "128cb39e-4c94-4e77-9bab-4d61c29c4579"
      },
      "execution_count": 89,
      "outputs": [
        {
          "output_type": "stream",
          "name": "stdout",
          "text": [
            "8 5 0\n",
            "1 4 2\n",
            "6 7 3\n",
            "\n"
          ]
        }
      ]
    },
    {
      "cell_type": "markdown",
      "source": [
        "## Movendo o espaço vazio para a esquerda\n",
        "\n",
        "O espaço vazio pode se mover para esquerda até que chegue na extremidade esquerda, após isso, mesmo que o jogador tente mover a peça para a esquerda nada acontecerá."
      ],
      "metadata": {
        "id": "Z8h-J5eNB-5Y"
      }
    },
    {
      "cell_type": "code",
      "source": [
        "tabuleiro.esquerda()"
      ],
      "metadata": {
        "colab": {
          "base_uri": "https://localhost:8080/"
        },
        "id": "RwdOHjrw7dlw",
        "outputId": "06fc93ed-7c1f-4006-a6a5-49823f56cc19"
      },
      "execution_count": 90,
      "outputs": [
        {
          "output_type": "stream",
          "name": "stdout",
          "text": [
            "8 0 5\n",
            "1 4 2\n",
            "6 7 3\n",
            "\n"
          ]
        }
      ]
    },
    {
      "cell_type": "code",
      "source": [
        "tabuleiro.esquerda()"
      ],
      "metadata": {
        "colab": {
          "base_uri": "https://localhost:8080/"
        },
        "id": "mfs5WbwICsJh",
        "outputId": "c67aba22-3913-43f4-94b7-9bf705b05c1e"
      },
      "execution_count": 91,
      "outputs": [
        {
          "output_type": "stream",
          "name": "stdout",
          "text": [
            "0 8 5\n",
            "1 4 2\n",
            "6 7 3\n",
            "\n"
          ]
        }
      ]
    },
    {
      "cell_type": "markdown",
      "source": [
        "Perceba na célula acima que a posição vazia já se encontra na extremidade esquerda, por isso, ao tentar movimentar novamente para esquerda nada acontecerá. Isto pode ser visto a seguir"
      ],
      "metadata": {
        "id": "clFiJCRXC9Kr"
      }
    },
    {
      "cell_type": "code",
      "source": [
        "tabuleiro.esquerda()"
      ],
      "metadata": {
        "colab": {
          "base_uri": "https://localhost:8080/"
        },
        "id": "BWJEOwGzCtYJ",
        "outputId": "afadf4a9-2e8c-4c55-92fa-f669ddabe97a"
      },
      "execution_count": 92,
      "outputs": [
        {
          "output_type": "stream",
          "name": "stdout",
          "text": [
            "0 8 5\n",
            "1 4 2\n",
            "6 7 3\n",
            "\n"
          ]
        }
      ]
    },
    {
      "cell_type": "markdown",
      "source": [
        "## Movendo o espaço vazio para baixo\n",
        "\n",
        "O espaço vazio pode se mover para cima até que chegue na extremidade inferior, após isso, mesmo que o jogador tente mover a peça para baixo nada acontecerá."
      ],
      "metadata": {
        "id": "W6L9RyXaCluG"
      }
    },
    {
      "cell_type": "code",
      "source": [
        "tabuleiro.baixo()"
      ],
      "metadata": {
        "colab": {
          "base_uri": "https://localhost:8080/"
        },
        "id": "INxCcEa8EwSR",
        "outputId": "7d7d5a09-1b15-4901-99c7-5bf89e6fb025"
      },
      "execution_count": 93,
      "outputs": [
        {
          "output_type": "stream",
          "name": "stdout",
          "text": [
            "1 8 5\n",
            "0 4 2\n",
            "6 7 3\n",
            "\n"
          ]
        }
      ]
    },
    {
      "cell_type": "code",
      "source": [
        "tabuleiro.baixo()"
      ],
      "metadata": {
        "colab": {
          "base_uri": "https://localhost:8080/"
        },
        "id": "2HDc7vN8ExHF",
        "outputId": "dbcc3bfd-bac1-45e5-e27c-3814f104fa8a"
      },
      "execution_count": 94,
      "outputs": [
        {
          "output_type": "stream",
          "name": "stdout",
          "text": [
            "1 8 5\n",
            "6 4 2\n",
            "0 7 3\n",
            "\n"
          ]
        }
      ]
    },
    {
      "cell_type": "markdown",
      "source": [
        "Perceba na célula acima que a posição vazia já se encontra na extremidade inferior, por isso, ao tentar movimentar novamente para baixo nada acontecerá. Isto pode ser visto a seguir"
      ],
      "metadata": {
        "id": "luqterebE7L7"
      }
    },
    {
      "cell_type": "code",
      "source": [
        "tabuleiro.baixo()"
      ],
      "metadata": {
        "colab": {
          "base_uri": "https://localhost:8080/"
        },
        "id": "7iNlV7StEx2Q",
        "outputId": "9386b931-a710-4c6d-df87-d09d6fe1b9e5"
      },
      "execution_count": 97,
      "outputs": [
        {
          "output_type": "stream",
          "name": "stdout",
          "text": [
            "1 8 5\n",
            "6 4 2\n",
            "0 7 3\n",
            "\n"
          ]
        }
      ]
    },
    {
      "cell_type": "markdown",
      "source": [
        "## Movendo o espaço vazio para cima\n",
        "\n",
        "O espaço vazio pode se mover para cima até que chegue na extremidade superior, após isso, mesmo que o jogador tente mover a peça para a cima nada acontecerá."
      ],
      "metadata": {
        "id": "6t9vyQmOCjmG"
      }
    },
    {
      "cell_type": "code",
      "source": [
        "tabuleiro.cima()"
      ],
      "metadata": {
        "colab": {
          "base_uri": "https://localhost:8080/"
        },
        "id": "bHeHInT5-d37",
        "outputId": "8e9c4268-069f-4958-efe0-8347115826ce"
      },
      "execution_count": 98,
      "outputs": [
        {
          "output_type": "stream",
          "name": "stdout",
          "text": [
            "1 8 5\n",
            "0 4 2\n",
            "6 7 3\n",
            "\n"
          ]
        }
      ]
    },
    {
      "cell_type": "code",
      "source": [
        "tabuleiro.cima()"
      ],
      "metadata": {
        "colab": {
          "base_uri": "https://localhost:8080/"
        },
        "id": "9cmqrY_5FNpb",
        "outputId": "64a9ad38-044a-4598-b518-a74ef7701f93"
      },
      "execution_count": 99,
      "outputs": [
        {
          "output_type": "stream",
          "name": "stdout",
          "text": [
            "0 8 5\n",
            "1 4 2\n",
            "6 7 3\n",
            "\n"
          ]
        }
      ]
    },
    {
      "cell_type": "markdown",
      "source": [
        "Perceba na célula acima que a posição vazia já se encontra na extremidade superior, por isso, ao tentar movimentar novamente nada acontecerá. Isto pode ser visto a seguir"
      ],
      "metadata": {
        "id": "My4vzgT9DiYZ"
      }
    },
    {
      "cell_type": "code",
      "source": [
        "tabuleiro.cima()"
      ],
      "metadata": {
        "colab": {
          "base_uri": "https://localhost:8080/"
        },
        "id": "j0nMvtY8Dmpu",
        "outputId": "c4d4c799-bdb4-4794-ffdf-bff667de15dd"
      },
      "execution_count": 101,
      "outputs": [
        {
          "output_type": "stream",
          "name": "stdout",
          "text": [
            "0 8 5\n",
            "1 4 2\n",
            "6 7 3\n",
            "\n"
          ]
        }
      ]
    },
    {
      "cell_type": "markdown",
      "source": [
        "## Estado final\n",
        "\n",
        "Esse estado representa que o jogador completou o jogo, esse é o objetivo por isso é o estado final."
      ],
      "metadata": {
        "id": "B_krAewHAi3z"
      }
    },
    {
      "cell_type": "code",
      "source": [
        "tabuleiro.estado_final()"
      ],
      "metadata": {
        "colab": {
          "base_uri": "https://localhost:8080/"
        },
        "id": "aBKUYOTwAow0",
        "outputId": "62572165-7ec3-496c-c160-d3df13c82fb7"
      },
      "execution_count": 102,
      "outputs": [
        {
          "output_type": "stream",
          "name": "stdout",
          "text": [
            "1 2 3\n",
            "4 5 6\n",
            "7 8 0\n",
            "\n"
          ]
        }
      ]
    }
  ]
}